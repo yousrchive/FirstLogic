{
 "cells": [
  {
   "cell_type": "code",
   "execution_count": 1,
   "metadata": {},
   "outputs": [
    {
     "name": "stdout",
     "output_type": "stream",
     "text": [
      "'강제추행죄'는 텍스트 파일에 8번 등장합니다.\n"
     ]
    }
   ],
   "source": [
    "# 특정 단어와 대체어 리스트 정의\n",
    "base_word = '강제추행죄'\n",
    "\n",
    "# 텍스트 파일 읽기\n",
    "with open('★강제추행.txt', 'r', encoding='utf-8') as file:\n",
    "    text = file.read()\n",
    "\n",
    "# 단어 개수 세기\n",
    "count = text.count(base_word)\n",
    "\n",
    "# 결과 출력\n",
    "print(f\"'{base_word}'는 텍스트 파일에 {count}번 등장합니다.\")"
   ]
  },
  {
   "cell_type": "code",
   "execution_count": 2,
   "metadata": {},
   "outputs": [],
   "source": [
    "# 특정 단어와 대체어 리스트 정의\n",
    "base_word = '강제추행죄'\n",
    "replacement_words = [\n",
    "   '산재전문변호사', '산업재해보상보험', '손해배상청구소송 사안 해결', '상간녀소송변호사 위자료 청구', '코인사기변호사 법적 조력',\n",
    "    '마약변호사 양성 음성 대처', '형사사건변호사 상담', '카메라등이용촬영죄 미수 기소', '지하철성추행 가중처벌 cctv 해결',\n",
    "    '강제추행경찰조사 변호사 조력', '음주뺑소니 운전 무면허 해결', '12대중과실교통사고 운전자보험 해결', '산재전문변호사 중대산업재해 산업재해사례',\n",
    "    '손해배상변호사 정신적 손해배상 변호사', '상간남소송변호사 아이 증거 소장', '주식투자사기 혐의 조력', '마약변호사 운반책 운반원',\n",
    "    '형사사건변호사 법적 대책', '카메라등이용촬영죄 무죄 증거불충분 해소', '지하철성추행 초범 합의 대처', '강제추행 공소시효 무죄 조력',\n",
    "    '음주뺑소니 합의금 처벌 조력', '12대중과실교통사고 처벌 합의금', '산재전문변호사 산업재해보상 산업재해기준', '손해배상변호사 일상손해배상 민사손해배상',\n",
    "    '상간자소송변호사 소송비용 복수 소송시간', '비트코인사기 변호사 조언', '마약변호사 벌금 집행유예', '형사전문변호사 법조가 대응',\n",
    "    '카메라등이용촬영죄 무혐의 합의서', '지하철성추행 실형 벌금형 조력', '강제추행 무고죄 증거불충분 해결', '음주뺑소니 음주사고 벌금',\n",
    "    '12대중과실교통사고 벌금 보험', '산재전문변호사 산재보상금 산재보험', '자동차손해배상 운전자보험 조력', '상간소송 절차 갈등 혐의',\n",
    "    '주식리딩방사기 혐의 논점', '마약변호사 법조가 조력', '서초형사전문변호사 법적 조력', '카메라등이용촬영죄 반성문 변호사의견서',\n",
    "    '지하철성추행 무혐의 반성문', '강제추행 초범 합의 해결', '음주뺑소니 사고 면허취소', '12대중과실교통사고 형사합의 무면허운전'\n",
    "]"
   ]
  },
  {
   "cell_type": "code",
   "execution_count": 4,
   "metadata": {},
   "outputs": [
    {
     "name": "stdout",
     "output_type": "stream",
     "text": [
      "산재전문변호사.txt 파일이 생성되었습니다.\n",
      "산업재해보상보험.txt 파일이 생성되었습니다.\n",
      "손해배상청구소송 사안 해결.txt 파일이 생성되었습니다.\n",
      "상간녀소송변호사 위자료 청구.txt 파일이 생성되었습니다.\n",
      "코인사기변호사 법적 조력.txt 파일이 생성되었습니다.\n",
      "마약변호사 양성 음성 대처.txt 파일이 생성되었습니다.\n",
      "형사사건변호사 상담.txt 파일이 생성되었습니다.\n",
      "카메라등이용촬영죄 미수 기소.txt 파일이 생성되었습니다.\n",
      "지하철성추행 가중처벌 cctv 해결.txt 파일이 생성되었습니다.\n",
      "강제추행경찰조사 변호사 조력.txt 파일이 생성되었습니다.\n",
      "음주뺑소니 운전 무면허 해결.txt 파일이 생성되었습니다.\n",
      "12대중과실교통사고 운전자보험 해결.txt 파일이 생성되었습니다.\n",
      "산재전문변호사 중대산업재해 산업재해사례.txt 파일이 생성되었습니다.\n",
      "손해배상변호사 정신적 손해배상 변호사.txt 파일이 생성되었습니다.\n",
      "상간남소송변호사 아이 증거 소장.txt 파일이 생성되었습니다.\n",
      "주식투자사기 혐의 조력.txt 파일이 생성되었습니다.\n",
      "마약변호사 운반책 운반원.txt 파일이 생성되었습니다.\n",
      "형사사건변호사 법적 대책.txt 파일이 생성되었습니다.\n",
      "카메라등이용촬영죄 무죄 증거불충분 해소.txt 파일이 생성되었습니다.\n",
      "지하철성추행 초범 합의 대처.txt 파일이 생성되었습니다.\n",
      "강제추행 공소시효 무죄 조력.txt 파일이 생성되었습니다.\n",
      "음주뺑소니 합의금 처벌 조력.txt 파일이 생성되었습니다.\n",
      "12대중과실교통사고 처벌 합의금.txt 파일이 생성되었습니다.\n",
      "산재전문변호사 산업재해보상 산업재해기준.txt 파일이 생성되었습니다.\n",
      "손해배상변호사 일상손해배상 민사손해배상.txt 파일이 생성되었습니다.\n",
      "상간자소송변호사 소송비용 복수 소송시간.txt 파일이 생성되었습니다.\n",
      "비트코인사기 변호사 조언.txt 파일이 생성되었습니다.\n",
      "마약변호사 벌금 집행유예.txt 파일이 생성되었습니다.\n",
      "형사전문변호사 법조가 대응.txt 파일이 생성되었습니다.\n",
      "카메라등이용촬영죄 무혐의 합의서.txt 파일이 생성되었습니다.\n",
      "지하철성추행 실형 벌금형 조력.txt 파일이 생성되었습니다.\n",
      "강제추행 무고죄 증거불충분 해결.txt 파일이 생성되었습니다.\n",
      "음주뺑소니 음주사고 벌금.txt 파일이 생성되었습니다.\n",
      "12대중과실교통사고 벌금 보험.txt 파일이 생성되었습니다.\n",
      "산재전문변호사 산재보상금 산재보험.txt 파일이 생성되었습니다.\n",
      "자동차손해배상 운전자보험 조력.txt 파일이 생성되었습니다.\n",
      "상간소송 절차 갈등 혐의.txt 파일이 생성되었습니다.\n",
      "주식리딩방사기 혐의 논점.txt 파일이 생성되었습니다.\n",
      "마약변호사 법조가 조력.txt 파일이 생성되었습니다.\n",
      "서초형사전문변호사 법적 조력.txt 파일이 생성되었습니다.\n",
      "카메라등이용촬영죄 반성문 변호사의견서.txt 파일이 생성되었습니다.\n",
      "지하철성추행 무혐의 반성문.txt 파일이 생성되었습니다.\n",
      "강제추행 초범 합의 해결.txt 파일이 생성되었습니다.\n",
      "음주뺑소니 사고 면허취소.txt 파일이 생성되었습니다.\n",
      "12대중과실교통사고 형사합의 무면허운전.txt 파일이 생성되었습니다.\n",
      "모든 파일 생성이 완료되었습니다.\n"
     ]
    }
   ],
   "source": [
    "import random\n",
    "\n",
    "# 대체어 딕셔너리를 읽어오는 함수\n",
    "def read_synonyms(filename):\n",
    "    synonyms_dict = {}\n",
    "    with open(filename, 'r', encoding='utf-8') as file:\n",
    "        for line in file:\n",
    "            parts = line.split(':')\n",
    "            if len(parts) == 2:\n",
    "                word = parts[0].strip().strip(\"'\")\n",
    "                synonyms = parts[1].strip().strip('[]\\n').replace(\"'\", \"\").split(', ')\n",
    "                synonyms_dict[word] = synonyms\n",
    "    return synonyms_dict\n",
    "\n",
    "# 입력 텍스트 파일 처리 함수\n",
    "def replace_words_with_synonyms(text, synonyms_dict):\n",
    "    for word, synonyms in synonyms_dict.items():\n",
    "        if word in text:\n",
    "            text = text.replace(word, random.choice(synonyms))\n",
    "    return text\n",
    "\n",
    "# 추가된 단어 치환 및 파일 생성 함수\n",
    "def replace_and_generate_files(input_filename, base_word, replacement_words, synonyms_dict):\n",
    "    with open(input_filename, 'r', encoding='utf-8') as file:\n",
    "        original_text = file.read()\n",
    "    \n",
    "    for replacement in replacement_words:\n",
    "        modified_text = original_text.replace(base_word, replacement)\n",
    "        modified_text = replace_words_with_synonyms(modified_text, synonyms_dict)\n",
    "        \n",
    "        output_filename = f\"{replacement}.txt\"\n",
    "        with open(output_filename, 'w', encoding='utf-8') as file:\n",
    "            file.write(modified_text)\n",
    "        print(f\"{output_filename} 파일이 생성되었습니다.\")\n",
    "\n",
    "# 대체어 딕셔너리 읽기\n",
    "synonyms_dict = read_synonyms('synonym.txt')\n",
    "\n",
    "# 입력 텍스트 파일 처리 및 저장\n",
    "replace_and_generate_files('★강제추행.txt', base_word, replacement_words, synonyms_dict)\n",
    "\n",
    "print(\"모든 파일 생성이 완료되었습니다.\")"
   ]
  },
  {
   "cell_type": "code",
   "execution_count": null,
   "metadata": {},
   "outputs": [],
   "source": []
  }
 ],
 "metadata": {
  "kernelspec": {
   "display_name": "Python 3",
   "language": "python",
   "name": "python3"
  },
  "language_info": {
   "codemirror_mode": {
    "name": "ipython",
    "version": 3
   },
   "file_extension": ".py",
   "mimetype": "text/x-python",
   "name": "python",
   "nbconvert_exporter": "python",
   "pygments_lexer": "ipython3",
   "version": "3.12.4"
  }
 },
 "nbformat": 4,
 "nbformat_minor": 2
}
